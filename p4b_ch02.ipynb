{
 "cells": [
  {
   "cell_type": "code",
   "execution_count": 34,
   "metadata": {},
   "outputs": [
    {
     "name": "stdout",
     "output_type": "stream",
     "text": [
      "AT content:  0.6851851851851852\n"
     ]
    }
   ],
   "source": [
    "# Python for Biologists - Ch. 2 - Exercises\n",
    "# BIOL 5153\n",
    "# Spring 2020\n",
    "#\n",
    "# 1. CALCULATING AT CONTENT:\n",
    "# test_dna = 'ACTG'\n",
    "# a_count = test_dna.count('A')\n",
    "# t_count = test_dna.count('T')\n",
    "# AT_content = (a_count+t_count)/len(test_dna)\n",
    "# print(AT_content)\n",
    "\n",
    "dna_seq1 = 'ACTGATCGATTACGTATAGTATTTGCTATCATACATATATATCGATGCGTTCAT'\n",
    "a_count = dna_seq1.count('A')\n",
    "t_count = dna_seq1.count('T')\n",
    "AT_content = (a_count+t_count)/len(dna_seq1)\n",
    "print('AT content: ', str(AT_content))\n"
   ]
  },
  {
   "cell_type": "code",
   "execution_count": 40,
   "metadata": {},
   "outputs": [
    {
     "name": "stdout",
     "output_type": "stream",
     "text": [
      "The complement is: TGACTAGCTAATGCATATCATAAACGATAGTATGTATATATAGCTACGCAAGTA\n"
     ]
    }
   ],
   "source": [
    "# 2. COMPLEMENTING DNA\n",
    "# test_dna = 'ACTGTAA'\n",
    "# complement1 = test_dna.replace('A','t')\n",
    "# print(complement1)\n",
    "# complement2 = complement1.replace('C', 'g')\n",
    "# print(complement2)\n",
    "# complement3 = complement2.replace('T','a')\n",
    "# print(complement3)\n",
    "# complement4 = complement3.replace('G','c')\n",
    "# print(complement4)\n",
    "# complement_upper = complement4.upper()\n",
    "# print(complement_upper)\n",
    "\n",
    "dna_seq2 = 'ACTGATCGATTACGTATAGTATTTGCTATCATACATATATATCGATGCGTTCAT'\n",
    "complement1 = dna_seq2.replace('A', 't')\n",
    "complement2 = complement1.replace('C','g')\n",
    "complement3 = complement2.replace('T','a')\n",
    "complement4 = complement3.replace('G','c')\n",
    "complement_upper = complement4.upper()\n",
    "print('The complement is:', complement_upper)"
   ]
  },
  {
   "cell_type": "code",
   "execution_count": 41,
   "metadata": {},
   "outputs": [
    {
     "name": "stdout",
     "output_type": "stream",
     "text": [
      "The length of fragment one is 22\n",
      "The length of fragment two is 33\n"
     ]
    }
   ],
   "source": [
    "# 3. RESTRICTION FRAGMENT LENGTHS\n",
    "dna_seq3 = \"ACTGATCGATTACGTATAGTAGAATTCTATCATACATATATATCGATGCGTTCAT\"\n",
    "frag1_len = dna_seq3.find('GAATTC') + 1\n",
    "frag2_len = len(dna_seq3) - frag1_len\n",
    "print(\"The length of fragment one is \" + str(frag1_len))\n",
    "print(\"The length of fragment two is \" + str(frag2_len))"
   ]
  },
  {
   "cell_type": "code",
   "execution_count": 48,
   "metadata": {},
   "outputs": [
    {
     "name": "stdout",
     "output_type": "stream",
     "text": [
      "ATCGATCGATCGATCGACTGACTAGTCATAGCTATGCATGTAGCTACTCGATCGATCGATCGATCATCGATCGATATCGATGCATCGACTACTAT\n"
     ]
    }
   ],
   "source": [
    "# 4. SPLICING OUT INTRONS, PT I\n",
    "dna_seq = \"ATCGATCGATCGATCGACTGACTAGTCATAGCTATGCATGTAGCTACTCGATCGATCGATCGATCGATCGATCGATCGATCGATCATGCTATCATCGATCGATATCGATGCATCGACTACTAT\"\n",
    "seq_len = len(dna_seq)\n",
    "exon1 = dna_seq[0:62]\n",
    "exon2 = dna_seq[90:seq_len+1]\n",
    "print(exon1 + exon2)"
   ]
  },
  {
   "cell_type": "code",
   "execution_count": 50,
   "metadata": {},
   "outputs": [
    {
     "name": "stdout",
     "output_type": "stream",
     "text": [
      "77.23577235772358\n"
     ]
    }
   ],
   "source": [
    "# 5. SPLICING OUT INTRONS PART II\n",
    "coding_len = len(exon1 + exon2)\n",
    "print(coding_len/seq_len*100)"
   ]
  },
  {
   "cell_type": "code",
   "execution_count": 51,
   "metadata": {},
   "outputs": [
    {
     "name": "stdout",
     "output_type": "stream",
     "text": [
      "ATCGATCGATCGATCGACTGACTAGTCATAGCTATGCATGTAGCTACTCGATCGATCGATCGatcgatcgatcgatcgatcgatcatgctATCATCGATCGATATCGATGCATCGACTACTAT\n"
     ]
    }
   ],
   "source": [
    "# 6. SPLICING OUT INTRONS PT III\n",
    "intron = dna_seq[62:90]\n",
    "print(exon1 + intron.lower() + exon2)"
   ]
  },
  {
   "cell_type": "code",
   "execution_count": null,
   "metadata": {},
   "outputs": [],
   "source": []
  }
 ],
 "metadata": {
  "kernelspec": {
   "display_name": "Python 3",
   "language": "python",
   "name": "python3"
  },
  "language_info": {
   "codemirror_mode": {
    "name": "ipython",
    "version": 3
   },
   "file_extension": ".py",
   "mimetype": "text/x-python",
   "name": "python",
   "nbconvert_exporter": "python",
   "pygments_lexer": "ipython3",
   "version": "3.7.4"
  }
 },
 "nbformat": 4,
 "nbformat_minor": 2
}
