{
 "cells": [
  {
   "cell_type": "code",
   "execution_count": 1,
   "metadata": {},
   "outputs": [],
   "source": [
    "# BIOL 5153\n",
    "# Spring 2020\n",
    "# Python for biologists ch.09\n",
    "\n",
    "import os\n",
    "os.rename(\"old.txt\", \"new.txt\")"
   ]
  },
  {
   "cell_type": "code",
   "execution_count": 2,
   "metadata": {},
   "outputs": [],
   "source": [
    "os.rename(\"old_folder\", \"new_folder\")"
   ]
  },
  {
   "cell_type": "code",
   "execution_count": 3,
   "metadata": {},
   "outputs": [],
   "source": [
    "os.mkdir(\"new_folder/python\")"
   ]
  },
  {
   "cell_type": "code",
   "execution_count": null,
   "metadata": {},
   "outputs": [],
   "source": [
    "shutil.copy(\"new.txt\", \"new_folder/python\")"
   ]
  },
  {
   "cell_type": "code",
   "execution_count": 5,
   "metadata": {},
   "outputs": [
    {
     "name": "stdout",
     "output_type": "stream",
     "text": [
      "You have mail!\n"
     ]
    }
   ],
   "source": [
    "if os.path.exists(\"new_folder\"):\n",
    "    print(\"You have mail!\")"
   ]
  },
  {
   "cell_type": "code",
   "execution_count": null,
   "metadata": {},
   "outputs": [],
   "source": [
    "# Deleting files and folders\n",
    "os.remove(\"unwanted_file.txt\")\n",
    "os.rmdir(\"empty\")\n",
    "shutil.rmtree(\"full\")"
   ]
  },
  {
   "cell_type": "code",
   "execution_count": 6,
   "metadata": {},
   "outputs": [
    {
     "name": "stdout",
     "output_type": "stream",
     "text": [
      "one file name is IMB on mission\n",
      "one file name is biol5153\n",
      "one file name is new_folder\n",
      "one file name is Tickets\n",
      "one file name is p4b_ch03.ipynb\n",
      "one file name is Untitled1.ipynb\n",
      "one file name is Screenshots\n",
      "one file name is .DS_Store\n",
      "one file name is .localized\n",
      "one file name is Disk Inventory X.app\n",
      "one file name is Untitled3.ipynb\n",
      "one file name is parseGFF.py\n",
      "one file name is Untitled.ipynb\n",
      "one file name is Untitled4.ipynb\n",
      "one file name is Law\n",
      "one file name is Resume\n",
      "one file name is Screen Shot 2020-04-19 at 7.06.21 PM.png\n",
      "one file name is Terminal\n",
      "one file name is Untitled2.ipynb\n",
      "one file name is Field Agent\n",
      "one file name is Mystical Creature .xlsx\n",
      "one file name is parser_GFF_v2.ipynb\n",
      "one file name is parseGFF_codon_table.ipynb\n",
      "one file name is Colombia\n",
      "one file name is FarmHouse\n",
      "one file name is module_test.py\n",
      "one file name is Personals\n",
      "one file name is ~$Jobs 2017.xlsx\n",
      "one file name is Spring2020\n",
      "one file name is .ipynb_checkpoints\n",
      "one file name is p4b_ch09.ipynb\n",
      "one file name is Bible Related\n",
      "one file name is Finances\n",
      "one file name is Kaleo\n",
      "one file name is School\n",
      "one file name is Desktop_STUFF\n",
      "one file name is last_original_parseGFF_04232020.ipynb\n",
      "one file name is new.txt\n",
      "one file name is Jobs Old\n"
     ]
    }
   ],
   "source": [
    "# Listing folder contents\n",
    "\n",
    "for file_name in os.listdir(\".\"):\n",
    "    print(\"one file name is \" + file_name)"
   ]
  },
  {
   "cell_type": "code",
   "execution_count": 7,
   "metadata": {},
   "outputs": [
    {
     "name": "stdout",
     "output_type": "stream",
     "text": [
      "Enter the accession namehello\n"
     ]
    }
   ],
   "source": [
    "# Interactive user input\n",
    "accession = input(\"Enter the accession name\")\n",
    "# do something with the accession variable"
   ]
  },
  {
   "cell_type": "code",
   "execution_count": 8,
   "metadata": {},
   "outputs": [
    {
     "name": "stdout",
     "output_type": "stream",
     "text": [
      "['/Users/koreyvaughn/opt/anaconda3/lib/python3.7/site-packages/ipykernel_launcher.py', '-f', '/Users/koreyvaughn/Library/Jupyter/runtime/kernel-90516bea-8f94-4a56-bcfa-4fbed69fed2b.json']\n"
     ]
    }
   ],
   "source": [
    "import sys\n",
    "print(sys.argv) "
   ]
  },
  {
   "cell_type": "code",
   "execution_count": null,
   "metadata": {},
   "outputs": [],
   "source": []
  }
 ],
 "metadata": {
  "kernelspec": {
   "display_name": "Python 3",
   "language": "python",
   "name": "python3"
  },
  "language_info": {
   "codemirror_mode": {
    "name": "ipython",
    "version": 3
   },
   "file_extension": ".py",
   "mimetype": "text/x-python",
   "name": "python",
   "nbconvert_exporter": "python",
   "pygments_lexer": "ipython3",
   "version": "3.7.4"
  }
 },
 "nbformat": 4,
 "nbformat_minor": 2
}
