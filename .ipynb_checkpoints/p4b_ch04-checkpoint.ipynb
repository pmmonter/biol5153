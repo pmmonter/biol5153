{
 "cells": [
  {
   "cell_type": "code",
   "execution_count": 3,
   "metadata": {},
   "outputs": [
    {
     "name": "stdout",
     "output_type": "stream",
     "text": [
      "processed sequence with length 43\n",
      "processed sequence with length 38\n",
      "processed sequence with length 49\n",
      "processed sequence with length 34\n",
      "processed sequence with length 49\n"
     ]
    }
   ],
   "source": [
    "# EXERCISE 1:\n",
    "# opening input file\n",
    "file = open(\"input.txt\")\n",
    "# opening output file\n",
    "output = open(\"trimmed.txt\", \"w\")\n",
    "\n",
    "# iterating through input file\n",
    "for dna in file:\n",
    " # calculating position of last character\n",
    " end_pos = len(dna)\n",
    " # getting substring from 15th character to the end\n",
    " trimmed_dna = dna[14:end_pos]\n",
    " # printing out trimmed sequence\n",
    " output.write(trimmed_dna)\n",
    " # print out the length to the screen\n",
    " print(\"processed sequence with length \" + str(len(trimmed_dna))) \n",
    "\n",
    "# closing output file:\n",
    "output.close()    "
   ]
  },
  {
   "cell_type": "code",
   "execution_count": 7,
   "metadata": {},
   "outputs": [],
   "source": [
    "# EXERCISE 2:\n",
    "# opening genomic dna file and reading  contents\n",
    "genomic_dna = open(\"genomic_dna.txt\").read()\n",
    "# opening exon locations file:\n",
    "exon_locations = open(\"exons.txt\")\n",
    "# creating a variable to hold the coding sequence\n",
    "coding_sequence = \"\"\n",
    "\n",
    "# iterating through exon locations file\n",
    "for line in exon_locations:\n",
    " # splitting the line using a comma\n",
    " positions = line.split(',')\n",
    " # retrieving start and stop positions\n",
    " start_pos = int(positions[0])\n",
    " stop_pos = int(positions[1])\n",
    " # extracting exon from the genomic dna\n",
    " exon = genomic_dna[start_pos:stop_pos]\n",
    " # appending exon to the end of the current coding sequence\n",
    " coding_sequence = coding_sequence + exon\n",
    "\n",
    "# writing coding sequence to an output file\n",
    "output = open(\"coding_sequence.txt\", \"w\")\n",
    "output.write(coding_sequence)\n",
    "output.close() "
   ]
  },
  {
   "cell_type": "code",
   "execution_count": null,
   "metadata": {},
   "outputs": [],
   "source": []
  },
  {
   "cell_type": "code",
   "execution_count": null,
   "metadata": {},
   "outputs": [],
   "source": []
  },
  {
   "cell_type": "code",
   "execution_count": null,
   "metadata": {},
   "outputs": [],
   "source": []
  },
  {
   "cell_type": "code",
   "execution_count": null,
   "metadata": {},
   "outputs": [],
   "source": []
  },
  {
   "cell_type": "code",
   "execution_count": null,
   "metadata": {},
   "outputs": [],
   "source": []
  },
  {
   "cell_type": "code",
   "execution_count": null,
   "metadata": {},
   "outputs": [],
   "source": []
  },
  {
   "cell_type": "code",
   "execution_count": null,
   "metadata": {},
   "outputs": [],
   "source": []
  },
  {
   "cell_type": "code",
   "execution_count": null,
   "metadata": {},
   "outputs": [],
   "source": []
  }
 ],
 "metadata": {
  "kernelspec": {
   "display_name": "Python 3",
   "language": "python",
   "name": "python3"
  },
  "language_info": {
   "codemirror_mode": {
    "name": "ipython",
    "version": 3
   },
   "file_extension": ".py",
   "mimetype": "text/x-python",
   "name": "python",
   "nbconvert_exporter": "python",
   "pygments_lexer": "ipython3",
   "version": "3.7.4"
  }
 },
 "nbformat": 4,
 "nbformat_minor": 2
}
